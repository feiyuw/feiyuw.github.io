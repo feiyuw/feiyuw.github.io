{
 "cells": [
  {
   "cell_type": "markdown",
   "metadata": {},
   "source": [
    "最近开始学习pandas用来进行数据分析的入门，这里将一些东西总结为一个notebook以方便查看。"
   ]
  },
  {
   "cell_type": "code",
   "execution_count": null,
   "metadata": {
    "collapsed": false
   },
   "outputs": [],
   "source": [
    "%matplotlib inline"
   ]
  },
  {
   "cell_type": "code",
   "execution_count": null,
   "metadata": {
    "collapsed": true
   },
   "outputs": [],
   "source": [
    "from pandas import DataFrame, Series\n",
    "import pandas as pd\n",
    "import numpy as np"
   ]
  },
  {
   "cell_type": "markdown",
   "metadata": {},
   "source": [
    "## 分析网页请求数据"
   ]
  },
  {
   "cell_type": "code",
   "execution_count": null,
   "metadata": {
    "collapsed": false
   },
   "outputs": [],
   "source": [
    "import json\n",
    "# 数据来源: http://1usagov.measuredvoice.com/2013/\n",
    "with open('usagov_bitly_data2013-05-17-1368832207') as fp:\n",
    "    records = map(json.loads, fp)"
   ]
  },
  {
   "cell_type": "code",
   "execution_count": null,
   "metadata": {
    "collapsed": false
   },
   "outputs": [],
   "source": [
    "data = DataFrame(records) # 以frame形式使用数据\n",
    "\n",
    "clean_tz = data['tz'].fillna('Missing')\n",
    "clean_tz[clean_tz == ''] = 'Unknown'\n",
    "\n",
    "# data[(data['tz'] == '') & (data['al'] == 'en')] # filter data"
   ]
  },
  {
   "cell_type": "code",
   "execution_count": null,
   "metadata": {
    "collapsed": false
   },
   "outputs": [],
   "source": [
    "clean_tz.value_counts()[:15].plot(kind='barh', figsize=(12, 5)) # figsize 调整大小，单位为inch"
   ]
  },
  {
   "cell_type": "code",
   "execution_count": null,
   "metadata": {
    "collapsed": false
   },
   "outputs": [],
   "source": [
    "agents = Series([x.split(' ', 1)[0] for x in data.a.dropna()])\n",
    "agents.value_counts(ascending=True)[-15:].plot(kind='barh', figsize=(12, 5), logx=True) # logx=True 使用对数坐标"
   ]
  },
  {
   "cell_type": "code",
   "execution_count": null,
   "metadata": {
    "collapsed": false
   },
   "outputs": [],
   "source": [
    "# 找出Windows和非Windows用户的比例\n",
    "cframe = data[data.a.notnull()] # 过滤\n",
    "\n",
    "# TODO: data.a.notnull()和data.a.dropna()的区别在哪？\n",
    "import numpy as np\n",
    "\n",
    "operating_systems = np.where(cframe['a'].str.contains('Windows'), 'Windows', 'Not Windows')\n",
    "\n",
    "by_tz_os = cframe.groupby(['tz', operating_systems])\n",
    "agg_counts = by_tz_os.size().unstack().fillna(0)\n",
    "# 排序\n",
    "indexer = agg_counts.sum(1).argsort()\n",
    "indexer[:10] # 最前面10个数据\n",
    "count_subset = agg_counts.take(indexer)[-10:] # 最后10个数据\n",
    "count_subset.plot(kind='barh', stacked=True)"
   ]
  },
  {
   "cell_type": "code",
   "execution_count": null,
   "metadata": {
    "collapsed": false,
    "scrolled": true
   },
   "outputs": [],
   "source": [
    "# 看比例而不看数据\n",
    "count_subset.div(count_subset.sum(1), axis=0).plot(kind='barh', stacked=True, figsize=(10, 5))"
   ]
  },
  {
   "cell_type": "markdown",
   "metadata": {},
   "source": [
    "## 分析电影评分数据"
   ]
  },
  {
   "cell_type": "code",
   "execution_count": null,
   "metadata": {
    "collapsed": false
   },
   "outputs": [],
   "source": [
    "# 数据来源 http://grouplens.org/datasets/movielens/1m/\n",
    "# 用户数据\n",
    "unames = ['user_id', 'gender', 'age', 'occupation', 'zip']\n",
    "users = pd.read_table('ml-1m/users.dat', sep='::', header=None, names=unames, engine='python')\n",
    "# 评分数据\n",
    "rnames = ['user_id', 'movie_id', 'rating', 'timestamp']\n",
    "ratings = pd.read_table('ml-1m/ratings.dat', sep='::', header=None, names=rnames, engine='python')\n",
    "# 电影数据\n",
    "mnames = ['movie_id', 'title', 'genres']\n",
    "movies = pd.read_table('ml-1m/movies.dat', sep='::', header=None, names=mnames, engine='python')\n",
    "# 合并为最终数据\n",
    "mldata = pd.merge(pd.merge(ratings, users), movies)"
   ]
  },
  {
   "cell_type": "code",
   "execution_count": null,
   "metadata": {
    "collapsed": false
   },
   "outputs": [],
   "source": [
    "# 使用数据\n",
    "mean_ratings = mldata.pivot_table('rating',index='title', columns=['gender'], aggfunc='mean') # 得到每部电影按性别划分的评分标准"
   ]
  },
  {
   "cell_type": "code",
   "execution_count": null,
   "metadata": {
    "collapsed": false
   },
   "outputs": [],
   "source": [
    "# 以title分组的rating\n",
    "ratings_by_title = mldata.groupby('title').size()\n",
    "active_titles = ratings_by_title.index[ratings_by_title >= 250]\n",
    "mean_ratings = mean_ratings.ix[active_titles]"
   ]
  },
  {
   "cell_type": "code",
   "execution_count": null,
   "metadata": {
    "collapsed": false,
    "scrolled": true
   },
   "outputs": [],
   "source": [
    "# 女性最喜欢的N部电影\n",
    "top_female_ratings = mean_ratings['F'].dropna().sort_values(ascending=False)\n",
    "# top_female_ratings[:10]"
   ]
  },
  {
   "cell_type": "code",
   "execution_count": null,
   "metadata": {
    "collapsed": false
   },
   "outputs": [],
   "source": [
    "# 分歧最大的电影\n",
    "mean_ratings['diff'] = mean_ratings['M'] - mean_ratings['F']\n",
    "sort_by_diff = mean_ratings['diff'].dropna().sort_values()\n",
    "# sort_by_diff[::-1][:10]"
   ]
  },
  {
   "cell_type": "code",
   "execution_count": null,
   "metadata": {
    "collapsed": false
   },
   "outputs": [],
   "source": [
    "# 不考虑性别因素分歧最大的电影列表\n",
    "mldata.groupby('title')['rating'].std().ix[active_titles].sort_values(ascending=False)[:10]"
   ]
  },
  {
   "cell_type": "markdown",
   "metadata": {},
   "source": [
    "## 分析新生儿姓名数据"
   ]
  },
  {
   "cell_type": "code",
   "execution_count": null,
   "metadata": {
    "collapsed": false
   },
   "outputs": [],
   "source": [
    "# 数据来源： https://www.ssa.gov/oact/babynames/limits.html\n",
    "from glob import glob\n",
    "import re\n",
    "\n",
    "year_ptn = re.compile(r'\\d+')\n",
    "pieces = []\n",
    "for file_path in glob('names/*.txt'):\n",
    "    year = year_ptn.search(file_path).group()\n",
    "    names_year = pd.read_csv(file_path, names=['name', 'sex', 'births'])\n",
    "    names_year['year'] = year\n",
    "    pieces.append(names_year)\n",
    "\n",
    "names = pd.concat(pieces, ignore_index=True) # ignore_index=True 之后将不会返回原始行号"
   ]
  }
 ],
 "metadata": {
  "kernelspec": {
   "display_name": "Python 2",
   "language": "python",
   "name": "python2"
  },
  "language_info": {
   "codemirror_mode": {
    "name": "ipython",
    "version": 2
   },
   "file_extension": ".py",
   "mimetype": "text/x-python",
   "name": "python",
   "nbconvert_exporter": "python",
   "pygments_lexer": "ipython2",
   "version": "2.7.6"
  }
 },
 "nbformat": 4,
 "nbformat_minor": 0
}
